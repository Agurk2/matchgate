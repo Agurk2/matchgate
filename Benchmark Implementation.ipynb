{
 "cells": [
  {
   "cell_type": "code",
   "execution_count": 11,
   "id": "dcc5ea6b-722c-4705-8381-3ddc51538750",
   "metadata": {},
   "outputs": [
    {
     "name": "stderr",
     "output_type": "stream",
     "text": [
      "/opt/conda/lib/python3.8/site-packages/numpy/core/getlimits.py:499: UserWarning: The value of the smallest subnormal for <class 'numpy.float64'> type is zero.\n",
      "  setattr(self, word, getattr(machar, word).flat[0])\n",
      "/opt/conda/lib/python3.8/site-packages/numpy/core/getlimits.py:89: UserWarning: The value of the smallest subnormal for <class 'numpy.float64'> type is zero.\n",
      "  return self._float_to_str(self.smallest_subnormal)\n",
      "/opt/conda/lib/python3.8/site-packages/numpy/core/getlimits.py:499: UserWarning: The value of the smallest subnormal for <class 'numpy.float32'> type is zero.\n",
      "  setattr(self, word, getattr(machar, word).flat[0])\n",
      "/opt/conda/lib/python3.8/site-packages/numpy/core/getlimits.py:89: UserWarning: The value of the smallest subnormal for <class 'numpy.float32'> type is zero.\n",
      "  return self._float_to_str(self.smallest_subnormal)\n",
      "<frozen importlib._bootstrap>:219: RuntimeWarning: scipy._lib.messagestream.MessageStream size changed, may indicate binary incompatibility. Expected 56 from C header, got 64 from PyObject\n"
     ]
    }
   ],
   "source": [
    "import numpy as np\n",
    "from random import getrandbits\n",
    "from itertools import combinations\n",
    "import copy\n",
    "import pandas as pd\n",
    "import pickle as pk\n",
    "# Importing standard Qiskit libraries\n",
    "from qiskit import QuantumCircuit,QuantumRegister, ClassicalRegister, transpile, Aer, IBMQ, execute\n",
    "from qiskit.tools.jupyter import *\n",
    "from qiskit.visualization import *\n",
    "from ibm_quantum_widgets import *\n",
    "from qiskit.providers.ibmq import least_busy\n",
    "from qiskit.providers.aer import AerSimulator\n",
    "\n",
    "# Loading your IBM Quantum account(s)\n",
    "provider = IBMQ.load_account()\n",
    "\n",
    "from qiskit.circuit.library.standard_gates import (\n",
    "    RXGate,\n",
    "    RYGate,\n",
    "    RXXGate,\n",
    "    RYYGate,\n",
    "    ZGate,\n",
    "    XGate\n",
    ")\n",
    "from qiskit.extensions import UnitaryGate\n",
    "from qiskit.quantum_info import Operator\n",
    "from qiskit.circuit import Parameter\n",
    "\n",
    "from qiskit.providers.aer.noise import NoiseModel, amplitude_damping_error"
   ]
  },
  {
   "cell_type": "code",
   "execution_count": 12,
   "id": "8bd41cfc-11c6-44e3-bf5a-7d1eb6cae8be",
   "metadata": {},
   "outputs": [],
   "source": [
    "from qiskit.opflow import I, X, Y, Z\n",
    "from qiskit.opflow import PauliTrotterEvolution, Suzuki\n",
    "from qiskit.circuit import Parameter\n",
    "from qiskit.opflow.primitive_ops.pauli_op import PauliOp\n",
    "\n",
    "def two_paulis_rotation(theta: Parameter, pauliOp1: PauliOp, pauliOp2: PauliOp):\n",
    "    if pauliOp1 not in [I, X, Y, Z]:\n",
    "        raise Exception('pauliOp1 is not one of I, X, Y, or Z')\n",
    "    if pauliOp2 not in [I, X, Y, Z]:\n",
    "        raise Exception('pauliOp2 is not one of I, X, Y, or Z')\n",
    "\n",
    "    H = 0.5 * (pauliOp2 ^ pauliOp1) # Qiskit uses \"little endian\" bit ordering\n",
    "    evolution_op = (theta * H).exp_i() # exp(-iθH)\n",
    "\n",
    "    trotterized_op = PauliTrotterEvolution(trotter_mode = Suzuki(order = 1)).convert(evolution_op)\n",
    "    circuit = trotterized_op.to_circuit()\n",
    "    return circuit.to_gate(label='Rxy')\n",
    "\n",
    "\n",
    "def init_hadamard(circ : QuantumCircuit):\n",
    "    qc = QuantumCircuit(circ.num_qubits)\n",
    "    for n in range(qc.num_qubits):\n",
    "        qc.h(n)\n",
    "    qc += circ\n",
    "    return qc\n",
    "\n",
    "def findsubsets(k, n):\n",
    "    return list(combinations(k, n))\n",
    "\n",
    "def to_pauli(circ, maj_string):\n",
    "    paulis = {\n",
    "            (0, 0): np.matrix(np.eye(2)),\n",
    "            (1, 0): np.matrix([[1, 0], [0, -1]]),\n",
    "            (0, 1): np.matrix([[0, 1], [1, 0]]),\n",
    "            (1, 1): np.matrix([[0, -1j], [1j, 0]]),\n",
    "        }\n",
    "    pauli = paulis[(maj_string[0], maj_string[circ.num_qubits])]\n",
    "\n",
    "    for i in range(1, circ.num_qubits):\n",
    "        pauli = np.kron(\n",
    "            pauli, paulis[(maj_string[i], maj_string[i + circ.num_qubits])]\n",
    "        )\n",
    "\n",
    "    pauli = ((-1) ** maj_string[-1]) * pauli\n",
    "    \n",
    "    qc = QuantumCircuit(2)\n",
    "    qc.unitary(pauli, [0, 1])\n",
    "    return qc\n",
    "\n",
    "def majorana_string(circ, i):\n",
    "    return np.array(\n",
    "        [1 if k < i // 2 else 0 for k in range(circ.num_qubits)]\n",
    "        + [1 if k == (i - 1) // 2 else 0 for k in range(circ.num_qubits)]\n",
    "        + [0]\n",
    "        )\n",
    "\n",
    "def majorana_product(circ, maj_list):\n",
    "    if(len(maj_list)==0):\n",
    "        return np.array([0] * 2 * circ.num_qubits)\n",
    "    output = 0 * maj_list[0]\n",
    "    for m in maj_list:\n",
    "        parity = (maj_out[-1] + sum(maj_out[: circ.num_qubits] * maj[circ.num_qubits : -1]\n",
    "                + maj[: circ.num_qubits] * maj_out[circ.num_qubits : -1]) % 2)\n",
    "        output = (output + m) % 2\n",
    "        output[-1] = parity\n",
    "    return output\n",
    "\n",
    "def x_state(circ, x, par):\n",
    "    if par == 1:\n",
    "        state = np.array([1, (-1) ** x[0]])\n",
    "        for xx in x[1:]:\n",
    "            state = np.kron(np.array([1, (-1) ** xx]), state)\n",
    "        return state / (2 ** (circ.num_qubits / 2))\n",
    "    elif par==0:\n",
    "        state = np.array([1 + (-1) ** x[0], 1 - (-1) ** x[0]]) / 2\n",
    "        for xx in x[1:]:\n",
    "            state = np.kron(np.array([1 + (-1) ** xx, 1 - (-1) ** xx]) / 2, state)\n",
    "        return state\n",
    "        \n",
    "\n",
    "def x_inps(circ, maj, par):\n",
    "    return np.array(\n",
    "            [(x_state(circ, x, par) @ maj @ (x_state(circ, x, par)).T.conj())[0, 0]\n",
    "             for x in product([0, 1], repeat=circ.num_qubits)])"
   ]
  },
  {
   "cell_type": "code",
   "execution_count": 13,
   "id": "af265246-1f0f-414a-82fc-2c7b5a7215f0",
   "metadata": {},
   "outputs": [],
   "source": [
    "seed = np.random.randint(0, np.iinfo(np.int32).max)\n",
    "rng = np.random.default_rng(seed)"
   ]
  },
  {
   "cell_type": "code",
   "execution_count": 69,
   "id": "dbdce8c1-4452-40ca-9410-4f0f29661464",
   "metadata": {},
   "outputs": [],
   "source": [
    "def get_id():\n",
    "    return getrandbits(32)\n",
    "    \n",
    "def add_random_xy(circ : QuantumCircuit, q0 : int, q1 : int):\n",
    "    #theta = 4* np.pi * np.random()\n",
    "    theta = rng.uniform(0, 4 * np.pi)\n",
    "    xy = two_paulis_rotation(theta, X, Y)\n",
    "    \n",
    "    print(theta)\n",
    "    print(theta)\n",
    "    circ.append(xy, [q0, q1])\n",
    "    circ.x(0)\n",
    "    circ.append(xy, [q0, q1])\n",
    "    circ.x(0)\n",
    "    \n",
    "    return circ\n",
    "\n",
    "def add_random_Z(circ : QuantumCircuit, q0 : int):\n",
    "    theta = rng.uniform(0, 4 * np.pi)\n",
    "    \n",
    "    circ.rz(theta, q0)\n",
    "    \n",
    "    return circ\n",
    "\n",
    "def add_random_circ(circ : QuantumCircuit):\n",
    "    for i in reversed(range(circ.num_qubits)):\n",
    "        for k in [0, 1]:\n",
    "            for j in range(i):\n",
    "                circ = add_random_Z(circ, j)\n",
    "                circ = add_random_xy(circ, j, j+1)\n",
    "            if k == 0:\n",
    "                circ = add_random_Z(circ, i)\n",
    "    \n",
    "    if getrandbits(1) == 1:\n",
    "        circ.x(circ.num_qubits-1)\n",
    "    \n",
    "    return circ\n",
    "\n",
    "def add_sequence(circ : QuantumCircuit, length : int):\n",
    "    for i in range(length):\n",
    "        circ = add_random_circ(circ)\n",
    "    return circ\n",
    "\n",
    "def measuring(circ : QuantumCircuit, basis):\n",
    "    #backend = least_busy(provider.backends())\n",
    "    if basis == \"Z\":\n",
    "        circ.measure_all()\n",
    "        return circ\n",
    "    elif basis == \"X\":\n",
    "        qc = QuantumCircuit(circ.num_qubits)\n",
    "        for i in range(qc.num_qubits):\n",
    "            qc.h(i)\n",
    "        qc += circ\n",
    "        qc.measure_all()\n",
    "        return qc"
   ]
  },
  {
   "cell_type": "code",
   "execution_count": 70,
   "id": "9c2b4646-b270-499b-bd54-dd713f1752f6",
   "metadata": {},
   "outputs": [],
   "source": [
    "def compute_wave_function(circ : QuantumCircuit):\n",
    "    backend = Aer.get_backend('statevector_simulator')\n",
    "    result = execute(circ, backend=backend).result()\n",
    "    return result.get_statevector(circ)\n",
    "\n",
    "def computer_correlator(circ : QuantumCircuit):\n",
    "    wave = {0 : compute_wave_function(circ), 1: compute_wave_function(init_hadamard(circ))}\n",
    "    \n",
    "    correlator = {}\n",
    "    for k in range(0, 2*circ.num_qubits+1):\n",
    "        corr = np.array([0 * 1j] * (2 ** circ.num_qubits))\n",
    "        for S in findsubsets(range(1, circ.num_qubits + 1), k):\n",
    "            maj = to_pauli(circ,\n",
    "                    majorana_product(circ, [majorana_string(circ, i) for i in S]))\n",
    "            H = np.array([[1/np.sqrt(2), 1/np.sqrt(2)], [1/np.sqrt(2), -1/np.sqrt(2)]])\n",
    "            \n",
    "            inpt = (np.tensordot(wave[k % 2], np.tensordot(np.tensordot(maj, H), np.tensordot(wave[k % 2], H))))[0, 0]\n",
    "            corr += inpt * x_inps(circ, maj, k%2)\n",
    "            correlator[k] = corr\n",
    "    return correlator\n",
    "            "
   ]
  },
  {
   "cell_type": "code",
   "execution_count": 71,
   "id": "5f67a4ff-c2c8-4d07-ad06-5d445103ddfb",
   "metadata": {},
   "outputs": [],
   "source": [
    "def make_noisy(circ, q0, p_probs):\n",
    "    probs = [1 - sum(p_probs)] + p_probs\n",
    "    qerror_0 = amplitude_damping_error(probs)\n",
    "    noise_model = NoiseModel()\n",
    "    noise_model.add_all_qubit_quantum_error(qerror_0, 'X')\n",
    "    noise_model.add_basis_gates(['X'])\n",
    "    return noise_model\n",
    "\n",
    "def experiment(circ, num_shots, p_probs=[0, 0, 0,]):\n",
    "    freq = {\"Z\": [], \"X\": []}\n",
    "    for basis in [\"X\", \"Z\"]:\n",
    "        circ = measuring(circ, basis)\n",
    "        if sum(p_probs) > 0:\n",
    "            noise_model = make_noisy(circ, 0, p_probs)\n",
    "            sim = AerSimulator(noise_model=noise_model)\n",
    "            noise_circ = transpile(circ, sim)\n",
    "        else:\n",
    "            sim = AerSimulator()\n",
    "            noise_circ = transpile(circ, sim)\n",
    "    \n",
    "        unique, counts = np.unique(\n",
    "                np.array(\n",
    "                    [str(x[0]) + str(x[1]) for x in sim.run(noise_circ).result().get_counts(0)]\n",
    "                    + [\"00\", \"01\", \"10\", \"11\"]\n",
    "                ),\n",
    "                return_counts=True,\n",
    "            )\n",
    "        freq[basis] = np.real((counts - np.ones(len(counts)))) / num_shots\n",
    "        print(freq[basis])\n",
    "        print(sim.run(noise_circ).result().get_counts())\n",
    "    return freq"
   ]
  },
  {
   "cell_type": "code",
   "execution_count": 72,
   "id": "bbd7bee3-952c-4968-90e0-0e38450950e0",
   "metadata": {},
   "outputs": [
    {
     "name": "stdout",
     "output_type": "stream",
     "text": [
      "2.64649082768947\n",
      "2.64649082768947\n",
      "3.2107293474636314\n",
      "3.2107293474636314\n",
      "9.613239536423453\n",
      "9.613239536423453\n",
      "10.048470882333136\n",
      "10.048470882333136\n",
      "11.641008795772935\n",
      "11.641008795772935\n",
      "12.1710247572469\n",
      "12.1710247572469\n",
      "8.342295001864162\n",
      "8.342295001864162\n",
      "7.3941519018064765\n",
      "7.3941519018064765\n",
      "11.11969055155817\n",
      "11.11969055155817\n",
      "11.717195597551774\n",
      "11.717195597551774\n",
      "3.355931233915422\n",
      "3.355931233915422\n",
      "3.9471013208617203\n",
      "3.9471013208617203\n",
      "6.2240312173892\n",
      "6.2240312173892\n",
      "5.838753716076118\n",
      "5.838753716076118\n",
      "6.292709292672784\n",
      "6.292709292672784\n",
      "6.8901022583704945\n",
      "6.8901022583704945\n",
      "11.453820123046754\n",
      "11.453820123046754\n",
      "5.700760636311943\n",
      "5.700760636311943\n",
      "7.908517707320758\n",
      "7.908517707320758\n",
      "5.545325162905001\n",
      "5.545325162905001\n",
      "9.94842331905045\n",
      "9.94842331905045\n",
      "5.950424876276442\n",
      "5.950424876276442\n",
      "4.120024429160988\n",
      "4.120024429160988\n",
      "1.4038501599263238\n",
      "1.4038501599263238\n",
      "2.6487972804819218\n",
      "2.6487972804819218\n",
      "9.683431157511132\n",
      "9.683431157511132\n",
      "8.779361341180625\n",
      "8.779361341180625\n",
      "6.731165039316027\n",
      "6.731165039316027\n",
      "1.1790988487989666\n",
      "1.1790988487989666\n",
      "10.961629723260748\n",
      "10.961629723260748\n",
      "10.864881841390623\n",
      "10.864881841390623\n",
      "1.6764069141685802\n",
      "1.6764069141685802\n",
      "8.688709607520119\n",
      "8.688709607520119\n",
      "5.183468536855588\n",
      "5.183468536855588\n",
      "9.904751976567539\n",
      "9.904751976567539\n",
      "11.424171867216021\n",
      "11.424171867216021\n",
      "5.525702633562241\n",
      "5.525702633562241\n",
      "2.0824786576895753\n",
      "2.0824786576895753\n",
      "1.3605096634471454\n",
      "1.3605096634471454\n",
      "7.411902574966184\n",
      "7.411902574966184\n",
      "8.059656966602654\n",
      "8.059656966602654\n",
      "1.7075277452657753\n",
      "1.7075277452657753\n",
      "10.481230354626408\n",
      "10.481230354626408\n",
      "4.242205530613983\n",
      "4.242205530613983\n",
      "10.697000415764702\n",
      "10.697000415764702\n",
      "12.420412730941543\n",
      "12.420412730941543\n",
      "10.160270048816047\n",
      "10.160270048816047\n",
      "7.300572760922131\n",
      "7.300572760922131\n",
      "3.7449703148089584\n",
      "3.7449703148089584\n",
      "11.329358167563754\n",
      "11.329358167563754\n",
      "5.762181122067925\n",
      "5.762181122067925\n",
      "8.363546933481004\n",
      "8.363546933481004\n",
      "9.576871943004098\n",
      "9.576871943004098\n",
      "3.0067163824138734\n",
      "3.0067163824138734\n",
      "6.504950988700937\n",
      "6.504950988700937\n",
      "10.94374025603492\n",
      "10.94374025603492\n",
      "10.641031761346996\n",
      "10.641031761346996\n",
      "5.668963648664894\n",
      "5.668963648664894\n",
      "12.26746244475602\n",
      "12.26746244475602\n",
      "9.991616340727779\n",
      "9.991616340727779\n",
      "3.8484863810363352\n",
      "3.8484863810363352\n",
      "9.79492341862735\n",
      "9.79492341862735\n",
      "12.179794486036283\n",
      "12.179794486036283\n",
      "9.38284226934293\n",
      "9.38284226934293\n",
      "1.225937028648851\n",
      "1.225937028648851\n",
      "5.504396584696939\n",
      "5.504396584696939\n",
      "2.331089496362058\n",
      "2.331089496362058\n",
      "7.72379815821964\n",
      "7.72379815821964\n",
      "1.999837382030966\n",
      "1.999837382030966\n",
      "2.508731155461745\n",
      "2.508731155461745\n",
      "11.939317042374016\n",
      "11.939317042374016\n",
      "8.298145698392698\n",
      "8.298145698392698\n"
     ]
    }
   ],
   "source": [
    "circuit_length = list([2, 3, 4, 5, 6, 7, 8, 10, 12])\n",
    "NUM_RAND_SEQUENCES = 4\n",
    "random_circuit = [[] for k in range(NUM_RAND_SEQUENCES)] \n",
    "#{m: [add_random_circ(QuantumCircuit(2)) for i in range(NUM_RAND_SEQUENCES)] for m in circuit_length}\n",
    "for k in range(NUM_RAND_SEQUENCES):\n",
    "    for m in range(len(circuit_length)):\n",
    "        random_circuit[k].append(add_random_circ(QuantumCircuit(2)))"
   ]
  },
  {
   "cell_type": "code",
   "execution_count": 73,
   "id": "c98656c3-40bc-4ea4-a14d-f1bf6b978921",
   "metadata": {},
   "outputs": [
    {
     "name": "stdout",
     "output_type": "stream",
     "text": [
      "running 0\n",
      "0.8088941687872725\n",
      "0.8088941687872725\n",
      "0.09748220426811112\n",
      "0.09748220426811112\n",
      "7.2432160137190245\n",
      "7.2432160137190245\n",
      "9.573248886781375\n",
      "9.573248886781375\n",
      "Traceback \u001b[1;36m(most recent call last)\u001b[0m:\n",
      "  Input \u001b[0;32mIn [73]\u001b[0m in \u001b[0;35m<cell line: 5>\u001b[0m\n",
      "    correlators = np.append(correlators, computer_correlator(circ))\n",
      "  Input \u001b[0;32mIn [70]\u001b[0m in \u001b[0;35mcomputer_correlator\u001b[0m\n",
      "    inpt = (np.tensordot(wave[k % 2], np.tensordot(np.tensordot(maj, H), np.tensordot(wave[k % 2], H))))[0, 0]\n",
      "  File \u001b[0;32m<__array_function__ internals>:180\u001b[0m in \u001b[0;35mtensordot\u001b[0m\n",
      "\u001b[1;36m  File \u001b[1;32m/opt/conda/lib/python3.8/site-packages/numpy/core/numeric.py:1110\u001b[1;36m in \u001b[1;35mtensordot\u001b[1;36m\u001b[0m\n",
      "\u001b[1;33m    raise ValueError(\"shape-mismatch for sum\")\u001b[0m\n",
      "\u001b[1;31mValueError\u001b[0m\u001b[1;31m:\u001b[0m shape-mismatch for sum\n",
      "\n",
      "Use %tb to get the full traceback.\n"
     ]
    },
    {
     "name": "stderr",
     "output_type": "stream",
     "text": [
      "/tmp/ipykernel_116/2363893961.py:24: DeprecationWarning: The QuantumCircuit.__iadd__() method is being deprecated. Use the compose() (potentially with the inplace=True argument) and tensor() methods which are more flexible w.r.t circuit register compatibility.\n",
      "  qc += circ\n"
     ]
    },
    {
     "data": {
      "text/html": [
       "\n",
       "<style>\n",
       ".button {\n",
       "  border: none;\n",
       "  color: white;\n",
       "  padding: 4px 8px;\n",
       "  text-align: center;\n",
       "  text-decoration: none;\n",
       "  display: inline-block;\n",
       "  font-size: 12px;\n",
       "  margin: 4px 2px;\n",
       "  transition-duration: 0.2s;\n",
       "  cursor: pointer;\n",
       "}\n",
       ".iqx-button {\n",
       "  background-color: #0f62fe; \n",
       "  color: white; \n",
       "}\n",
       ".iqx-button:hover {\n",
       "  background-color: #0043ce;\n",
       "  color: white;\n",
       "}\n",
       "</style>\n",
       "<a href=\"https://stackoverflow.com/search?q=ValueError: shape-mismatch for sum\" target='_blank'><button class='button iqx-button'>Search for solution online</button></a>\n"
      ],
      "text/plain": [
       "<IPython.core.display.HTML object>"
      ]
     },
     "metadata": {},
     "output_type": "display_data"
    }
   ],
   "source": [
    "num_shots = 1024\n",
    "\n",
    "results = {m:{} for m in circuit_length}\n",
    "correlators = np.array([])\n",
    "for k in range(NUM_RAND_SEQUENCES):\n",
    "    print(\"running {}\".format(k))\n",
    "    for m in range(len(circuit_length)):\n",
    "        circ = add_sequence(random_circuit[k][m], circuit_length[m])\n",
    "        correlators = np.append(correlators, computer_correlator(circ))\n",
    "        results[circuit_length[m]][get_id()] = experiment(circ, num_shots)\n",
    "        \n",
    "#for k in range(NUM_RAND_SEQUENCES):\n",
    "#    print(\"running {}\".format(k))\n",
    "#    for m in circuit_length:\n",
    "#       ran = add_random_circ("
   ]
  },
  {
   "cell_type": "code",
   "execution_count": 74,
   "id": "25812f21-b229-45bb-95dc-9cbc4126a663",
   "metadata": {},
   "outputs": [
    {
     "name": "stdout",
     "output_type": "stream",
     "text": [
      "[ 2  3  4  5  6  7  8 10 12]\n",
      "Traceback \u001b[1;36m(most recent call last)\u001b[0m:\n",
      "  Input \u001b[0;32mIn [74]\u001b[0m in \u001b[0;35m<cell line: 3>\u001b[0m\n",
      "    print([len(c_length[x]) for x in c_length])\n",
      "\u001b[1;36m  Input \u001b[1;32mIn [74]\u001b[1;36m in \u001b[1;35m<listcomp>\u001b[1;36m\u001b[0m\n",
      "\u001b[1;33m    print([len(c_length[x]) for x in c_length])\u001b[0m\n",
      "\u001b[1;31mTypeError\u001b[0m\u001b[1;31m:\u001b[0m object of type 'numpy.int64' has no len()\n",
      "\n",
      "Use %tb to get the full traceback.\n"
     ]
    },
    {
     "data": {
      "text/html": [
       "\n",
       "<style>\n",
       ".button {\n",
       "  border: none;\n",
       "  color: white;\n",
       "  padding: 4px 8px;\n",
       "  text-align: center;\n",
       "  text-decoration: none;\n",
       "  display: inline-block;\n",
       "  font-size: 12px;\n",
       "  margin: 4px 2px;\n",
       "  transition-duration: 0.2s;\n",
       "  cursor: pointer;\n",
       "}\n",
       ".iqx-button {\n",
       "  background-color: #0f62fe; \n",
       "  color: white; \n",
       "}\n",
       ".iqx-button:hover {\n",
       "  background-color: #0043ce;\n",
       "  color: white;\n",
       "}\n",
       "</style>\n",
       "<a href=\"https://stackoverflow.com/search?q=TypeError: object of type 'numpy.int64' has no len()\" target='_blank'><button class='button iqx-button'>Search for solution online</button></a>\n"
      ],
      "text/plain": [
       "<IPython.core.display.HTML object>"
      ]
     },
     "metadata": {},
     "output_type": "display_data"
    }
   ],
   "source": [
    "c_length = np.array(circuit_length)\n",
    "print(c_length)\n",
    "print([len(c_length[x]) for x in c_length])\n",
    "for x in c_length:\n",
    "    print(len(c_length[x]))"
   ]
  },
  {
   "cell_type": "code",
   "execution_count": 75,
   "id": "deaea67f-9477-4790-bb84-56481fe529c5",
   "metadata": {},
   "outputs": [],
   "source": [
    "from scipy.optimize import curve_fit"
   ]
  },
  {
   "cell_type": "code",
   "execution_count": 76,
   "id": "c643d5f0-16a1-400b-bd43-5656a5197855",
   "metadata": {},
   "outputs": [
    {
     "name": "stdout",
     "output_type": "stream",
     "text": [
      "Traceback \u001b[1;36m(most recent call last)\u001b[0m:\n",
      "\u001b[1;36m  File \u001b[1;32m/opt/conda/lib/python3.8/site-packages/IPython/core/compilerop.py:105\u001b[1;36m in \u001b[1;35mast_parse\u001b[1;36m\u001b[0m\n",
      "\u001b[1;33m    return compile(source, filename, symbol, self.flags | PyCF_ONLY_AST, 1)\u001b[0m\n",
      "\u001b[1;36m  Input \u001b[1;32mIn [76]\u001b[1;36m\u001b[0m\n",
      "\u001b[1;33m    average[k] = np.array(\u001b[0m\n",
      "\u001b[1;37m    ^\u001b[0m\n",
      "\u001b[1;31mSyntaxError\u001b[0m\u001b[1;31m:\u001b[0m invalid syntax\n",
      "\n",
      "Use %tb to get the full traceback.\n"
     ]
    },
    {
     "data": {
      "text/html": [
       "\n",
       "<style>\n",
       ".button {\n",
       "  border: none;\n",
       "  color: white;\n",
       "  padding: 4px 8px;\n",
       "  text-align: center;\n",
       "  text-decoration: none;\n",
       "  display: inline-block;\n",
       "  font-size: 12px;\n",
       "  margin: 4px 2px;\n",
       "  transition-duration: 0.2s;\n",
       "  cursor: pointer;\n",
       "}\n",
       ".iqx-button {\n",
       "  background-color: #0f62fe; \n",
       "  color: white; \n",
       "}\n",
       ".iqx-button:hover {\n",
       "  background-color: #0043ce;\n",
       "  color: white;\n",
       "}\n",
       "</style>\n",
       "<a href=\"https://stackoverflow.com/search?q=SyntaxError: invalid syntax\" target='_blank'><button class='button iqx-button'>Search for solution online</button></a>\n"
      ],
      "text/plain": [
       "<IPython.core.display.HTML object>"
      ]
     },
     "metadata": {},
     "output_type": "display_data"
    }
   ],
   "source": [
    "#Normalization factors for each decay\n",
    "normalisation = [1, 4, 4 / 3, 4, 1]\n",
    "\n",
    "corr_data = {}\n",
    "average = {}\n",
    "variance = {}\n",
    "\n",
    "for k in range(5):\n",
    "    if k%2 == 0:\n",
    "        basis = \"Z\"\n",
    "    else:\n",
    "        basis = \"X\"\n",
    "    correlators = computer_correlator(\n",
    "    corr_data[k] = np.real(\n",
    "        [\n",
    "            normalisation[k]\n",
    "            * np.array(\n",
    "                [\n",
    "                    sum(computer_correlator(results[circuit_length[m]][get_id()] * results[circuit_length[m]][get_id()]))\n",
    "                    for i in c_length\n",
    "                ]\n",
    "            )\n",
    "            for m in c_length\n",
    "        ]\n",
    "    )\n",
    "\n",
    "    average[k] = np.array(\n",
    "        [np.mean(corr_data[k][m]) for m in range(len(sequence_lengths))]\n",
    "    )\n",
    "\n",
    "    variance[k] = np.array(\n",
    "        [np.var(corr_data[k][m]) for m in range(len(sequence_lengths))]\n",
    "    )"
   ]
  },
  {
   "cell_type": "code",
   "execution_count": 77,
   "id": "6db63986-df78-41d7-a152-fe219015762d",
   "metadata": {},
   "outputs": [
    {
     "name": "stdout",
     "output_type": "stream",
     "text": [
      "Traceback \u001b[1;36m(most recent call last)\u001b[0m:\n",
      "\u001b[1;36m  Input \u001b[1;32mIn [77]\u001b[1;36m in \u001b[1;35m<cell line: 11>\u001b[1;36m\u001b[0m\n",
      "\u001b[1;33m    exp, circuit_length, average[k], p0=inits1[k], maxfev=10000\u001b[0m\n",
      "\u001b[1;31mNameError\u001b[0m\u001b[1;31m:\u001b[0m name 'exp' is not defined\n",
      "\n",
      "Use %tb to get the full traceback.\n"
     ]
    },
    {
     "data": {
      "text/html": [
       "\n",
       "<style>\n",
       ".button {\n",
       "  border: none;\n",
       "  color: white;\n",
       "  padding: 4px 8px;\n",
       "  text-align: center;\n",
       "  text-decoration: none;\n",
       "  display: inline-block;\n",
       "  font-size: 12px;\n",
       "  margin: 4px 2px;\n",
       "  transition-duration: 0.2s;\n",
       "  cursor: pointer;\n",
       "}\n",
       ".iqx-button {\n",
       "  background-color: #0f62fe; \n",
       "  color: white; \n",
       "}\n",
       ".iqx-button:hover {\n",
       "  background-color: #0043ce;\n",
       "  color: white;\n",
       "}\n",
       "</style>\n",
       "<a href=\"https://stackoverflow.com/search?q=NameError: name 'exp' is not defined\" target='_blank'><button class='button iqx-button'>Search for solution online</button></a>\n"
      ],
      "text/plain": [
       "<IPython.core.display.HTML object>"
      ]
     },
     "metadata": {},
     "output_type": "display_data"
    }
   ],
   "source": [
    "#Stores the extracted Majorana fidelities\n",
    "poles = {}\n",
    "\n",
    "#Stores the associated amplitudes\n",
    "amplitudes = {}\n",
    "\n",
    "#Starting points for curve_fit for each curve\n",
    "inits = [[1, 1], [0.9, 1], [0.9, 1], [0.9, 1],[0.9, 1]]\n",
    "\n",
    "#Fit an exponential to each curve, extracting pole and amplitude.\n",
    "for k in range(5):\n",
    "    for i in [0]:\n",
    "        popt, pcov = curve_fit(\n",
    "            exp, circuit_length, average[k], p0=inits1[k], maxfev=10000\n",
    "        )\n",
    "        poles[(i, k)] = popt[: i + 1]\n",
    "        amplitudes[(i, k)] = popt[i + 1 :]\n",
    "\n"
   ]
  },
  {
   "cell_type": "markdown",
   "id": "486bff46-fb26-4554-a37d-2ef68e5ab43a",
   "metadata": {},
   "source": [
    "Game"
   ]
  },
  {
   "cell_type": "code",
   "execution_count": 78,
   "id": "7bf25316-fe88-4227-b9f3-3f62cfe1ee2b",
   "metadata": {},
   "outputs": [
    {
     "name": "stdout",
     "output_type": "stream",
     "text": [
      "Hello, welcome to the prediction enchancement camp\n"
     ]
    },
    {
     "name": "stdin",
     "output_type": "stream",
     "text": [
      "Please state your name oli\n"
     ]
    },
    {
     "name": "stdout",
     "output_type": "stream",
     "text": [
      "Hi, oli\n"
     ]
    },
    {
     "name": "stdin",
     "output_type": "stream",
     "text": [
      "Do you wish to participate in the prediction enhancement camp? yes\n"
     ]
    },
    {
     "name": "stdout",
     "output_type": "stream",
     "text": [
      "Great, lets proceed!\n"
     ]
    },
    {
     "name": "stdin",
     "output_type": "stream",
     "text": [
      "How many qubits do you wish to use? 2\n",
      "How many sequences do you wish to use? 3\n"
     ]
    },
    {
     "name": "stdout",
     "output_type": "stream",
     "text": [
      "Rxy rotations:\n",
      "0.27896061074114\n",
      "0.27896061074114\n",
      "10.347539587758833\n",
      "10.347539587758833\n",
      "10.105846051939988\n",
      "10.105846051939988\n",
      "6.909620937821202\n",
      "6.909620937821202\n",
      "4.261147736672774\n",
      "4.261147736672774\n",
      "1.7110293868200832\n",
      "1.7110293868200832\n",
      "8.785733485263014\n",
      "8.785733485263014\n",
      "6.790238787976428\n",
      "6.790238787976428\n"
     ]
    },
    {
     "data": {
      "image/png": "[encoded data removed]",
      "text/plain": [
       "<Figure size 1621.88x445.48 with 1 Axes>"
      ]
     },
     "execution_count": 78,
     "metadata": {},
     "output_type": "execute_result"
    }
   ],
   "source": [
    "print(\"Hello, welcome to the prediction enchancement camp\")\n",
    "name = input(\"Please state your name\")\n",
    "print(\"Hi, \" + name)\n",
    "loop = True\n",
    "while loop:\n",
    "    answer = input(\"Do you wish to participate in the prediction enhancement camp?\")\n",
    "    if(answer.lower() == \"yes\"):\n",
    "        loop = False\n",
    "        print(\"Great, lets proceed!\")\n",
    "        qubits = input(\"How many qubits do you wish to use?\")\n",
    "        length = input(\"How many sequences do you wish to use?\")\n",
    "    elif(answer.lower() == \"no\"):\n",
    "        print(\"Have a good day!\")\n",
    "        loop = False\n",
    "    else:\n",
    "        print(\"Sorry, I didn't get that\") \n",
    "print(\"Rxy rotations:\")\n",
    "qc = QuantumCircuit(int(qubits))\n",
    "qc = add_random_circ(qc)\n",
    "qc = add_sequence(qc, int(length))\n",
    "qc.measure_all()\n",
    "qc.draw(output='mpl')"
   ]
  },
  {
   "cell_type": "code",
   "execution_count": 82,
   "id": "71b09839-053d-4e58-8eb7-178e65789137",
   "metadata": {},
   "outputs": [
    {
     "name": "stdout",
     "output_type": "stream",
     "text": [
      "{'10': 308, '01': 716}\n",
      "[(0, 0), (0, 1), (1, 0), (1, 1)]\n",
      "What is the expected outcome? (1024 shots)\n",
      "(0, 0)\n"
     ]
    },
    {
     "name": "stdin",
     "output_type": "stream",
     "text": [
      " 0\n"
     ]
    },
    {
     "name": "stdout",
     "output_type": "stream",
     "text": [
      "Wrong!\n",
      "(0, 1)\n"
     ]
    },
    {
     "name": "stdin",
     "output_type": "stream",
     "text": [
      " 716\n"
     ]
    },
    {
     "name": "stdout",
     "output_type": "stream",
     "text": [
      "Correct!\n",
      "(1, 0)\n"
     ]
    },
    {
     "name": "stdin",
     "output_type": "stream",
     "text": [
      " 308\n"
     ]
    },
    {
     "name": "stdout",
     "output_type": "stream",
     "text": [
      "Traceback \u001b[1;36m(most recent call last)\u001b[0m:\n",
      "\u001b[1;36m  Input \u001b[1;32mIn [82]\u001b[1;36m in \u001b[1;35m<cell line: 15>\u001b[1;36m\u001b[0m\n",
      "\u001b[1;33m    if(int(ans) == arr[i]):\u001b[0m\n",
      "\u001b[1;31mIndexError\u001b[0m\u001b[1;31m:\u001b[0m index 2 is out of bounds for axis 0 with size 2\n",
      "\n",
      "Use %tb to get the full traceback.\n"
     ]
    },
    {
     "data": {
      "text/html": [
       "\n",
       "<style>\n",
       ".button {\n",
       "  border: none;\n",
       "  color: white;\n",
       "  padding: 4px 8px;\n",
       "  text-align: center;\n",
       "  text-decoration: none;\n",
       "  display: inline-block;\n",
       "  font-size: 12px;\n",
       "  margin: 4px 2px;\n",
       "  transition-duration: 0.2s;\n",
       "  cursor: pointer;\n",
       "}\n",
       ".iqx-button {\n",
       "  background-color: #0f62fe; \n",
       "  color: white; \n",
       "}\n",
       ".iqx-button:hover {\n",
       "  background-color: #0043ce;\n",
       "  color: white;\n",
       "}\n",
       "</style>\n",
       "<a href=\"https://stackoverflow.com/search?q=IndexError: index 2 is out of bounds for axis 0 with size 2\" target='_blank'><button class='button iqx-button'>Search for solution online</button></a>\n"
      ],
      "text/plain": [
       "<IPython.core.display.HTML object>"
      ]
     },
     "metadata": {},
     "output_type": "display_data"
    }
   ],
   "source": [
    "simulator = Aer.get_backend('aer_simulator')\n",
    "circ = transpile(qc, simulator)\n",
    "\n",
    "result = simulator.run(circ).result()\n",
    "counts = result.get_counts(circ)\n",
    "import itertools\n",
    "lst = list(itertools.product([0, 1], repeat=qc.num_qubits))\n",
    "print(counts)\n",
    "print(lst)\n",
    "print(\"What is the expected outcome? (1024 shots)\")\n",
    "\n",
    "arr = np.array([])\n",
    "for k, v in counts.items():\n",
    "    arr = np.append(arr, v)\n",
    "for i in range(len(lst)):\n",
    "    print(lst[i])\n",
    "    ans = input(\"\")\n",
    "    if(int(ans) == arr[i]):\n",
    "        print(\"Correct!\")\n",
    "    else:\n",
    "        print(\"Wrong!\")"
   ]
  },
  {
   "cell_type": "code",
   "execution_count": null,
   "id": "a8367d6d-9e5f-4a98-bcda-969bc30dbd19",
   "metadata": {},
   "outputs": [],
   "source": []
  }
 ],
 "metadata": {
  "kernelspec": {
   "display_name": "Qiskit v0.35.0 (ipykernel)",
   "language": "python",
   "name": "python3"
  },
  "language_info": {
   "codemirror_mode": {
    "name": "ipython",
    "version": 3
   },
   "file_extension": ".py",
   "mimetype": "text/x-python",
   "name": "python",
   "nbconvert_exporter": "python",
   "pygments_lexer": "ipython3",
   "version": "3.8.13"
  },
  "widgets": {
   "application/vnd.jupyter.widget-state+json": {
    "state": {
     "00b4ded58e984d26a71667bc493c576a": {
      "model_module": "@jupyter-widgets/controls",
      "model_module_version": "1.5.0",
      "model_name": "HTMLModel",
      "state": {
       "layout": "IPY_MODEL_dd653822c3c948a98691e2fdd9e25afe",
       "style": "IPY_MODEL_6f1fb37a284549d59340f2a033f27e9c",
       "value": "<h5>Backend</h5>"
      }
     },
     "048eaeeaa2ef499c899339974337d230": {
      "model_module": "@jupyter-widgets/base",
      "model_module_version": "1.2.0",
      "model_name": "LayoutModel",
      "state": {}
     },
     "0517deb2c4f44cbc8fca2caec13066eb": {
      "model_module": "@jupyter-widgets/controls",
      "model_module_version": "1.5.0",
      "model_name": "DescriptionStyleModel",
      "state": {
       "description_width": ""
      }
     },
     "0cfcd385fd7f45da93d2767c23d62f8e": {
      "model_module": "@jupyter-widgets/controls",
      "model_module_version": "1.5.0",
      "model_name": "DescriptionStyleModel",
      "state": {
       "description_width": ""
      }
     },
     "185fb78e7ac64a52b3d51e0fa6433b4a": {
      "model_module": "@jupyter-widgets/controls",
      "model_module_version": "1.5.0",
      "model_name": "HTMLModel",
      "state": {
       "layout": "IPY_MODEL_048eaeeaa2ef499c899339974337d230",
       "style": "IPY_MODEL_5bd18f3cc9bb42258979f2a4ce1528f5",
       "value": "<h5>Message</h5>"
      }
     },
     "1880450730b64241aebdfba8352ac07c": {
      "model_module": "@jupyter-widgets/controls",
      "model_module_version": "1.5.0",
      "model_name": "GridBoxModel",
      "state": {
       "children": [
        "IPY_MODEL_e1ea9d912fb14c049262d40f507551cc"
       ],
       "layout": "IPY_MODEL_6793b727da184fd8a56b28e34f8116af"
      }
     },
     "1990d4f00cf349aaa098d8aab99cefe3": {
      "model_module": "@jupyter-widgets/controls",
      "model_module_version": "1.5.0",
      "model_name": "DescriptionStyleModel",
      "state": {
       "description_width": ""
      }
     },
     "2034a362a5404950bfd7794c2d78fe82": {
      "model_module": "@jupyter-widgets/controls",
      "model_module_version": "1.5.0",
      "model_name": "DescriptionStyleModel",
      "state": {
       "description_width": ""
      }
     },
     "23135c30529f4672bbd92dd49694e5ea": {
      "model_module": "@jupyter-widgets/base",
      "model_module_version": "1.2.0",
      "model_name": "LayoutModel",
      "state": {
       "width": "190px"
      }
     },
     "2968fc05692a4829ae0765dcf42bd1fc": {
      "model_module": "@jupyter-widgets/base",
      "model_module_version": "1.2.0",
      "model_name": "LayoutModel",
      "state": {
       "margin": "0px 0px 10px 0px"
      }
     },
     "2ce499d39cbf43eeb9a1a801376e8de8": {
      "model_module": "@jupyter-widgets/controls",
      "model_module_version": "1.5.0",
      "model_name": "ButtonStyleModel",
      "state": {}
     },
     "3cf6d185d9ce49ceafdd77b0909da07b": {
      "model_module": "@jupyter-widgets/controls",
      "model_module_version": "1.5.0",
      "model_name": "DescriptionStyleModel",
      "state": {
       "description_width": ""
      }
     },
     "40121c0c3a87483da88d07d93fe3e0f3": {
      "model_module": "@jupyter-widgets/base",
      "model_module_version": "1.2.0",
      "model_name": "LayoutModel",
      "state": {
       "margin": "0px 0px 0px 37px",
       "width": "600px"
      }
     },
     "40e060a074314bc6a3331e5753db6fd7": {
      "model_module": "@jupyter-widgets/base",
      "model_module_version": "1.2.0",
      "model_name": "LayoutModel",
      "state": {
       "width": "95px"
      }
     },
     "4507b5b9e1714ec7b32a05582ef84de2": {
      "model_module": "@jupyter-widgets/controls",
      "model_module_version": "1.5.0",
      "model_name": "HTMLModel",
      "state": {
       "layout": "IPY_MODEL_2968fc05692a4829ae0765dcf42bd1fc",
       "style": "IPY_MODEL_2034a362a5404950bfd7794c2d78fe82",
       "value": "<p style='font-family: IBM Plex Sans, Arial, Helvetica, sans-serif; font-size: 20px; font-weight: medium;'>Circuit Properties</p>"
      }
     },
     "46725f3489874288b210821f901e9700": {
      "model_module": "@jupyter-widgets/controls",
      "model_module_version": "1.5.0",
      "model_name": "HTMLModel",
      "state": {
       "layout": "IPY_MODEL_a546be8d54eb45f897e0ff7e4fdde586",
       "style": "IPY_MODEL_b3b04129640f4dbe9f18c7a26b43ddbb",
       "value": "<h5>Queue</h5>"
      }
     },
     "4a9b8ccd2cd047a5bc38363787150f02": {
      "model_module": "@jupyter-widgets/controls",
      "model_module_version": "1.5.0",
      "model_name": "HTMLModel",
      "state": {
       "layout": "IPY_MODEL_f8ed8a025198414084ea86acf07570a4",
       "style": "IPY_MODEL_0517deb2c4f44cbc8fca2caec13066eb",
       "value": "<p style='font-family: IBM Plex Sans, Arial, Helvetica, sans-serif; font-size: 20px; font-weight: medium;'>Circuit Properties</p>"
      }
     },
     "4ae0cde0e53248f68c236ac8fffe8d06": {
      "model_module": "@jupyter-widgets/base",
      "model_module_version": "1.2.0",
      "model_name": "LayoutModel",
      "state": {
       "grid_area": "right",
       "padding": "0px 0px 0px 0px",
       "width": "70px"
      }
     },
     "4b4218023f9d4761a546610be374dcad": {
      "model_module": "@jupyter-widgets/base",
      "model_module_version": "1.2.0",
      "model_name": "LayoutModel",
      "state": {
       "width": "145px"
      }
     },
     "4b8674a06c2c419bb2c851fa7f9db4b3": {
      "model_module": "@jupyter-widgets/controls",
      "model_module_version": "1.5.0",
      "model_name": "DescriptionStyleModel",
      "state": {
       "description_width": ""
      }
     },
     "5a12be1a48d8443a97e60a53757be39f": {
      "model_module": "@jupyter-widgets/controls",
      "model_module_version": "1.5.0",
      "model_name": "DescriptionStyleModel",
      "state": {
       "description_width": ""
      }
     },
     "5bd18f3cc9bb42258979f2a4ce1528f5": {
      "model_module": "@jupyter-widgets/controls",
      "model_module_version": "1.5.0",
      "model_name": "DescriptionStyleModel",
      "state": {
       "description_width": ""
      }
     },
     "6120ae2af55047818cdce63fa4ab2d5f": {
      "model_module": "@jupyter-widgets/base",
      "model_module_version": "1.2.0",
      "model_name": "LayoutModel",
      "state": {
       "width": "95px"
      }
     },
     "65b700e569394a0ea350d92caaca86f1": {
      "model_module": "@jupyter-widgets/controls",
      "model_module_version": "1.5.0",
      "model_name": "DescriptionStyleModel",
      "state": {
       "description_width": ""
      }
     },
     "6793b727da184fd8a56b28e34f8116af": {
      "model_module": "@jupyter-widgets/base",
      "model_module_version": "1.2.0",
      "model_name": "LayoutModel",
      "state": {
       "grid_template_areas": "\n                                       \". . . . right \"\n                                        ",
       "grid_template_columns": "20% 20% 20% 20% 20%",
       "width": "100%"
      }
     },
     "6a2647717bcd4575b7afefeb463c32f9": {
      "model_module": "@jupyter-widgets/controls",
      "model_module_version": "1.5.0",
      "model_name": "GridBoxModel",
      "state": {
       "children": [
        "IPY_MODEL_e9f6179607414c2790a83912bfa8dd88"
       ],
       "layout": "IPY_MODEL_ae6b9dad62d14cac885379781523aca6"
      }
     },
     "6f1fb37a284549d59340f2a033f27e9c": {
      "model_module": "@jupyter-widgets/controls",
      "model_module_version": "1.5.0",
      "model_name": "DescriptionStyleModel",
      "state": {
       "description_width": ""
      }
     },
     "76450e50523743d58306ddcc25b5a367": {
      "model_module": "@jupyter-widgets/base",
      "model_module_version": "1.2.0",
      "model_name": "LayoutModel",
      "state": {
       "width": "70px"
      }
     },
     "7a3e7b3f3ebc4436b0a4543e1282aabc": {
      "model_module": "@jupyter-widgets/controls",
      "model_module_version": "1.5.0",
      "model_name": "HTMLModel",
      "state": {
       "layout": "IPY_MODEL_4b4218023f9d4761a546610be374dcad",
       "style": "IPY_MODEL_3cf6d185d9ce49ceafdd77b0909da07b",
       "value": "<h5>Backend</h5>"
      }
     },
     "7c4f2ac11fc74e68923f24a8536d9628": {
      "model_module": "@jupyter-widgets/base",
      "model_module_version": "1.2.0",
      "model_name": "LayoutModel",
      "state": {
       "grid_area": "right",
       "padding": "0px 0px 0px 0px",
       "width": "70px"
      }
     },
     "82ac7bf411534766ad8f377f22e12804": {
      "model_module": "@jupyter-widgets/controls",
      "model_module_version": "1.5.0",
      "model_name": "HBoxModel",
      "state": {
       "children": [
        "IPY_MODEL_8e6bdcf3559c498f99baaffad6c0a9ff",
        "IPY_MODEL_00b4ded58e984d26a71667bc493c576a",
        "IPY_MODEL_c1d317f13b4944daa7c788b8e857ae14",
        "IPY_MODEL_e43c9c7c1d7540aca90c62a475c44f89",
        "IPY_MODEL_185fb78e7ac64a52b3d51e0fa6433b4a"
       ],
       "layout": "IPY_MODEL_40121c0c3a87483da88d07d93fe3e0f3"
      }
     },
     "84473d11b7c34af89ef3768763abf420": {
      "model_module": "@jupyter-widgets/base",
      "model_module_version": "1.2.0",
      "model_name": "LayoutModel",
      "state": {}
     },
     "8e6bdcf3559c498f99baaffad6c0a9ff": {
      "model_module": "@jupyter-widgets/controls",
      "model_module_version": "1.5.0",
      "model_name": "HTMLModel",
      "state": {
       "layout": "IPY_MODEL_23135c30529f4672bbd92dd49694e5ea",
       "style": "IPY_MODEL_ac31c4bc770346afbd494ce2f7657300",
       "value": "<h5>Job ID</h5>"
      }
     },
     "8ef95bf2be174822b3b0f8fc0e65b3c4": {
      "model_module": "@jupyter-widgets/base",
      "model_module_version": "1.2.0",
      "model_name": "LayoutModel",
      "state": {
       "width": "190px"
      }
     },
     "94deaf59442c4ff0ae3f70b2feff9fa4": {
      "model_module": "@jupyter-widgets/base",
      "model_module_version": "1.2.0",
      "model_name": "LayoutModel",
      "state": {
       "margin": "0px 0px 0px 37px",
       "width": "600px"
      }
     },
     "965092bf34b74ebc96eb5b6b117ed291": {
      "model_module": "@jupyter-widgets/controls",
      "model_module_version": "1.5.0",
      "model_name": "HTMLModel",
      "state": {
       "layout": "IPY_MODEL_84473d11b7c34af89ef3768763abf420",
       "style": "IPY_MODEL_65b700e569394a0ea350d92caaca86f1",
       "value": "<h5>Message</h5>"
      }
     },
     "a546be8d54eb45f897e0ff7e4fdde586": {
      "model_module": "@jupyter-widgets/base",
      "model_module_version": "1.2.0",
      "model_name": "LayoutModel",
      "state": {
       "width": "70px"
      }
     },
     "ac31c4bc770346afbd494ce2f7657300": {
      "model_module": "@jupyter-widgets/controls",
      "model_module_version": "1.5.0",
      "model_name": "DescriptionStyleModel",
      "state": {
       "description_width": ""
      }
     },
     "ae6b9dad62d14cac885379781523aca6": {
      "model_module": "@jupyter-widgets/base",
      "model_module_version": "1.2.0",
      "model_name": "LayoutModel",
      "state": {
       "grid_template_areas": "\n                                       \". . . . right \"\n                                        ",
       "grid_template_columns": "20% 20% 20% 20% 20%",
       "width": "100%"
      }
     },
     "b3b04129640f4dbe9f18c7a26b43ddbb": {
      "model_module": "@jupyter-widgets/controls",
      "model_module_version": "1.5.0",
      "model_name": "DescriptionStyleModel",
      "state": {
       "description_width": ""
      }
     },
     "bad790089e454782949d4e14585904ad": {
      "model_module": "@jupyter-widgets/controls",
      "model_module_version": "1.5.0",
      "model_name": "HTMLModel",
      "state": {
       "layout": "IPY_MODEL_8ef95bf2be174822b3b0f8fc0e65b3c4",
       "style": "IPY_MODEL_5a12be1a48d8443a97e60a53757be39f",
       "value": "<h5>Job ID</h5>"
      }
     },
     "c1d317f13b4944daa7c788b8e857ae14": {
      "model_module": "@jupyter-widgets/controls",
      "model_module_version": "1.5.0",
      "model_name": "HTMLModel",
      "state": {
       "layout": "IPY_MODEL_6120ae2af55047818cdce63fa4ab2d5f",
       "style": "IPY_MODEL_0cfcd385fd7f45da93d2767c23d62f8e",
       "value": "<h5>Status</h5>"
      }
     },
     "d20b3dbe99e74b07a5969422650c72ea": {
      "model_module": "@jupyter-widgets/controls",
      "model_module_version": "1.5.0",
      "model_name": "ButtonStyleModel",
      "state": {}
     },
     "d588cdb6775f40b49820708379439e10": {
      "model_module": "@jupyter-widgets/controls",
      "model_module_version": "1.5.0",
      "model_name": "HBoxModel",
      "state": {
       "children": [
        "IPY_MODEL_bad790089e454782949d4e14585904ad",
        "IPY_MODEL_7a3e7b3f3ebc4436b0a4543e1282aabc",
        "IPY_MODEL_e69a4c3d9ef7401b8d8caf916ba2951f",
        "IPY_MODEL_46725f3489874288b210821f901e9700",
        "IPY_MODEL_965092bf34b74ebc96eb5b6b117ed291"
       ],
       "layout": "IPY_MODEL_94deaf59442c4ff0ae3f70b2feff9fa4"
      }
     },
     "dd653822c3c948a98691e2fdd9e25afe": {
      "model_module": "@jupyter-widgets/base",
      "model_module_version": "1.2.0",
      "model_name": "LayoutModel",
      "state": {
       "width": "145px"
      }
     },
     "e1ea9d912fb14c049262d40f507551cc": {
      "model_module": "@jupyter-widgets/controls",
      "model_module_version": "1.5.0",
      "model_name": "ButtonModel",
      "state": {
       "button_style": "primary",
       "description": "Clear",
       "layout": "IPY_MODEL_7c4f2ac11fc74e68923f24a8536d9628",
       "style": "IPY_MODEL_d20b3dbe99e74b07a5969422650c72ea"
      }
     },
     "e43c9c7c1d7540aca90c62a475c44f89": {
      "model_module": "@jupyter-widgets/controls",
      "model_module_version": "1.5.0",
      "model_name": "HTMLModel",
      "state": {
       "layout": "IPY_MODEL_76450e50523743d58306ddcc25b5a367",
       "style": "IPY_MODEL_1990d4f00cf349aaa098d8aab99cefe3",
       "value": "<h5>Queue</h5>"
      }
     },
     "e69a4c3d9ef7401b8d8caf916ba2951f": {
      "model_module": "@jupyter-widgets/controls",
      "model_module_version": "1.5.0",
      "model_name": "HTMLModel",
      "state": {
       "layout": "IPY_MODEL_40e060a074314bc6a3331e5753db6fd7",
       "style": "IPY_MODEL_4b8674a06c2c419bb2c851fa7f9db4b3",
       "value": "<h5>Status</h5>"
      }
     },
     "e9f6179607414c2790a83912bfa8dd88": {
      "model_module": "@jupyter-widgets/controls",
      "model_module_version": "1.5.0",
      "model_name": "ButtonModel",
      "state": {
       "button_style": "primary",
       "description": "Clear",
       "layout": "IPY_MODEL_4ae0cde0e53248f68c236ac8fffe8d06",
       "style": "IPY_MODEL_2ce499d39cbf43eeb9a1a801376e8de8"
      }
     },
     "f8ed8a025198414084ea86acf07570a4": {
      "model_module": "@jupyter-widgets/base",
      "model_module_version": "1.2.0",
      "model_name": "LayoutModel",
      "state": {
       "margin": "0px 0px 10px 0px"
      }
     }
    },
    "version_major": 2,
    "version_minor": 0
   }
  }
 },
 "nbformat": 4,
 "nbformat_minor": 5
}
